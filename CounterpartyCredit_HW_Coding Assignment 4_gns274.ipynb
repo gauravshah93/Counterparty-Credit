{
 "cells": [
  {
   "cell_type": "markdown",
   "metadata": {},
   "source": [
    "## Coding Assignment 3\n",
    "### Gaurav Shah (gns274)"
   ]
  },
  {
   "cell_type": "code",
   "execution_count": 245,
   "metadata": {},
   "outputs": [],
   "source": [
    "#Import Libraries\n",
    "import numpy as np\n",
    "import pandas as pd\n",
    "from scipy import integrate, optimize\n",
    "import matplotlib.pyplot as plt\n",
    "from scipy.ndimage.interpolation import shift\n",
    "from scipy.stats import norm"
   ]
  },
  {
   "cell_type": "code",
   "execution_count": 269,
   "metadata": {},
   "outputs": [],
   "source": [
    "#Define Variables (1)\n",
    "a = 0.03\n",
    "b = 0.002\n",
    "s = 0.005\n",
    "sigma_r = 0.02\n",
    "c = 0.4\n",
    "kappa_2 = 0.05\n",
    "rho_infinity = 0.4\n",
    "T = 10\n",
    "notional = 50\n",
    "lambda_A = 0.04\n",
    "lambda_B = 0.02\n",
    "recovery_rate = 0.4\n",
    "spread_B = 0.012\n",
    "alpha_ead = 1.4\n",
    "probability_default = 0.005\n",
    "loss_given_default = 0.6\n",
    "rho_s = 0.4\n",
    "rho_l = 0.2"
   ]
  },
  {
   "cell_type": "code",
   "execution_count": 270,
   "metadata": {},
   "outputs": [],
   "source": [
    "#Define Variables (2)\n",
    "v = np.sqrt(np.square(1/c) - 1 - 2*((rho_infinity/c) - 1))\n",
    "sigma_1 = c * sigma_r\n",
    "sigma_2 = v * sigma_1\n",
    "rho_x = ((rho_infinity/c) - 1)/v\n",
    "kappa = np.matrix([[0,0],\n",
    "                  [0,kappa_2]])\n",
    "sigma_x = np.matrix([[sigma_1,0],\n",
    "                  [0,sigma_2]])\n",
    "rho_Z_1 = rho_l\n",
    "rho_Z_2 = rho_s * ((v**2 + 1 + 2*rho_x*v) ** 0.5) - rho_Z_1*v "
   ]
  },
  {
   "cell_type": "code",
   "execution_count": 271,
   "metadata": {},
   "outputs": [],
   "source": [
    "#Define Variables (3)\n",
    "k_l = 0.03\n",
    "sigma_l = 0.01"
   ]
  },
  {
   "cell_type": "code",
   "execution_count": 272,
   "metadata": {},
   "outputs": [],
   "source": [
    "#Function for calculating y(t)\n",
    "def matrix_calc(t_iter):\n",
    "    B_t = np.matrix([[1,0],\n",
    "                    [0,np.exp(-kappa_2*t_iter)]])\n",
    "    q_t = np.matrix([[sigma_1,rho_x*sigma_1*sigma_2*(np.exp(kappa_2*t_iter))],\n",
    "                    [rho_x*sigma_1*sigma_2*(np.exp(kappa_2*t_iter)),sigma_2*(np.exp(kappa_2*t_iter))]])\n",
    "    temp_t = q_t.T * q_t\n",
    "    integrate_temp_t = np.matrix([[np.square(sigma_1)*t_iter + (np.square(rho_x*sigma_1*sigma_2)*(np.exp(2*kappa_2*t_iter)-1))/(2*kappa_2), (np.square(sigma_1)*rho_x*sigma_2*(np.exp(kappa_2*t_iter)-1))/(kappa_2) + (np.square(sigma_2)*rho_x*sigma_1*(np.exp(2*kappa_2*t_iter)-1))/(2*kappa_2)],\n",
    "                                   [(np.square(sigma_1)*rho_x*sigma_2*(np.exp(kappa_2*t_iter)-1))/(kappa_2) + (np.square(sigma_2)*rho_x*sigma_1*(np.exp(2*kappa_2*t_iter)-1))/(2*kappa_2), (np.square(rho_x*sigma_1*sigma_2)*(np.exp(2*kappa_2*t_iter)-1))/(2*kappa_2) + (np.square(sigma_2)*(np.exp(2*kappa_2*t_iter)-1))/(2*kappa_2)]])\n",
    "    y_t = B_t * integrate_temp_t * B_t\n",
    "    return y_t"
   ]
  },
  {
   "cell_type": "code",
   "execution_count": 273,
   "metadata": {},
   "outputs": [],
   "source": [
    "#Function for calculating F(t,x(t),T)\n",
    "def F(t_iter,x_t,T_iter,y_t,P_0_t):\n",
    "    G_t_T = np.matrix([[T_iter-t_iter],\n",
    "               [(1 - np.exp(-kappa_2*(T_iter-t_iter)))/kappa_2]])\n",
    "    P_0_T = np.exp(-a*T_iter-(b*(T_iter**2)/2))\n",
    "    P_t_T = (P_0_T/P_0_t) * np.exp(-G_t_T.T * x_t - (G_t_T.T * y_t * G_t_T)/2)\n",
    "    return P_t_T"
   ]
  },
  {
   "cell_type": "code",
   "execution_count": 274,
   "metadata": {},
   "outputs": [],
   "source": [
    "#Function for calculating the values of Payer and Receiver legs\n",
    "#Returns the payer and receciver legs of any swap\n",
    "def payer_receiver(t_iter,x_t,y_t,P_0_t,delta_T, hpar_value_func):\n",
    "    sum_payer = 0\n",
    "    sum_receiver = 0\n",
    "    for T_iter in np.arange((int(t_iter/0.5)+1)*0.5,10.0001,delta_T):\n",
    "        if(T_iter==(int(t_iter/0.5)+1)*0.5):\n",
    "            sum_receiver = sum_receiver + notional*np.exp(s*delta_T)*F(t_iter,x_t,T_iter-delta_T,y_t,P_0_t)\n",
    "            temp = F(t_iter,x_t,T_iter,y_t,P_0_t)\n",
    "            sum_payer = sum_payer + notional*temp*(1+(hpar_value_func*delta_T))\n",
    "        else:\n",
    "            sum_receiver = sum_receiver + notional*np.exp(s*delta_T)*temp\n",
    "            temp = F(t_iter,x_t,T_iter,y_t,P_0_t)\n",
    "            sum_payer = sum_payer + notional*temp*(1+(hpar_value_func*delta_T))\n",
    "    return (sum_payer,sum_receiver)\n",
    "#V(t,x) = sum_receiver - sum_payer"
   ]
  },
  {
   "cell_type": "code",
   "execution_count": 275,
   "metadata": {},
   "outputs": [],
   "source": [
    "#Calculating all the y(t) to avoid repeating y(t) calculations as y(t) is only dependent on time\n",
    "delta_t=1/52\n",
    "matrix_calc_list=[]\n",
    "for i in range(0,int(T/delta_t)+1):\n",
    "    t_iter=i*delta_t\n",
    "    matrix_calc_list.append(matrix_calc(t_iter))"
   ]
  },
  {
   "cell_type": "code",
   "execution_count": 276,
   "metadata": {},
   "outputs": [],
   "source": [
    "#Calculating all the y(t) to avoid repeating y(t) calculations as y(t) is only dependent on time\n",
    "delta_t=1/52\n",
    "y_t_l_list=[]\n",
    "for i in range(0,int(T/delta_t)+1):\n",
    "    t_iter=i*delta_t\n",
    "    y_t_l_list.append(sigma_l**2/(2*k_l)*(1-np.exp(-2*k_l*i)))"
   ]
  },
  {
   "cell_type": "code",
   "execution_count": 277,
   "metadata": {},
   "outputs": [],
   "source": [
    "#Function for Calculating Unilateral CVA\n",
    "def calculate_CVA(total_payer_swap_array, default_int_counterparty):\n",
    "    cva = 0\n",
    "    for i in range(len(total_payer_swap_array)):\n",
    "        if(i == 0):\n",
    "            cva = cva + (total_payer_swap_array[i] * (np.exp(-default_int_counterparty*(i/52)) - 1))\n",
    "        else:\n",
    "            cva = cva + (total_payer_swap_array[i] * (np.exp(-default_int_counterparty*(i/52)) - np.exp(-default_int_counterparty*(i-1)/52)))\n",
    "    return cva"
   ]
  },
  {
   "cell_type": "markdown",
   "metadata": {},
   "source": [
    "Q.1"
   ]
  },
  {
   "cell_type": "code",
   "execution_count": 131,
   "metadata": {},
   "outputs": [],
   "source": [
    "T_sim=1\n",
    "delta_t = 1/52\n",
    "delta_T = 0.5\n",
    "u = np.matrix([[1],\n",
    "              [1]])\n",
    "n_paths = 1000\n",
    "hpar_list=[0.02,0.04,0.06,0.08]\n",
    "h_payer_EPE=[]\n",
    "h_receiver_EPE=[]\n",
    "h_payer_EEPE=[]\n",
    "h_receiver_EEPE=[]\n",
    "h_m_payer=[]\n",
    "h_m_receiver=[]\n",
    "EAD_payer=[]\n",
    "EAD_receiver=[]\n",
    "\n",
    "for hpar_value in hpar_list: # h_par loop for different values of fixed coupon\n",
    "    total_payer_swap_array = np.zeros(521)\n",
    "    total_receiver_swap_array = np.zeros(521)\n",
    "    EE_star_payer=np.array([])\n",
    "    EE_star_receiver=np.array([])\n",
    "    total_pvee_payer_swap_array = np.zeros(521)\n",
    "    total_pvee_receiver_swap_array = np.zeros(521)\n",
    "    for j in range(n_paths): #n_path loop for monte carlo\n",
    "        x_previous = np.matrix([[0],\n",
    "                               [0]])\n",
    "        payer_swap_array = np.array([])\n",
    "        receiver_swap_array = np.array([])\n",
    "        z_array = np.random.normal(0,1,2*(int(T/delta_t))+1)\n",
    "        discount_factor_array = np.array([])\n",
    "        for i in range(0,int(T/delta_t)+1): # i loop for creating of weekly sample paths \n",
    "            t_iter = i*delta_t\n",
    "            z_1 = z_array[i]\n",
    "            z_2 = z_array[i+int(T/delta_t)]\n",
    "            z_3 = rho_x * z_1 + ((1 - (rho_x**2))**0.5) * z_2\n",
    "            z_t = np.matrix([[z_1],\n",
    "                        [z_3]])\n",
    "#             y_t = matrix_calc(t_iter)\n",
    "            y_t=matrix_calc_list[i]\n",
    "            P_0_t = np.exp(-a*t_iter-(b*(t_iter**2)/2))\n",
    "            payer, receiver = payer_receiver(t_iter,x_previous,y_t,P_0_t,delta_T,hpar_value)\n",
    "            dx_t = (y_t*u - kappa*x_previous)*delta_t + sigma_x.T*z_t*(delta_t**0.5)\n",
    "            discount_factor = np.exp(-(a*t_iter+(b*(t_iter**2)/2) + (x_previous[0,0] + x_previous[1,0])*t_iter))\n",
    "            x_previous = x_previous + dx_t\n",
    "            \n",
    "            discount_factor_array = np.append(discount_factor_array,[discount_factor])\n",
    "            \n",
    "            payer_swap_array = np.append(payer_swap_array,[max(receiver-payer,0)]) # array storing weekly exposure values of payer swap\n",
    "            receiver_swap_array = np.append(receiver_swap_array,[max(payer-receiver,0)]) # # array storing weekly exposure values of receiver swap\n",
    "        \n",
    "        total_payer_swap_array = total_payer_swap_array + payer_swap_array\n",
    "        total_receiver_swap_array = total_receiver_swap_array + receiver_swap_array\n",
    "        \n",
    "        total_pvee_payer_swap_array = total_pvee_payer_swap_array + (payer_swap_array * discount_factor_array)\n",
    "        total_pvee_receiver_swap_array = total_pvee_receiver_swap_array + (receiver_swap_array * discount_factor_array)\n",
    "        \n",
    "    total_payer_swap_array = total_payer_swap_array/n_paths # E(E(t)) array for payer swap \n",
    "    total_receiver_swap_array = total_receiver_swap_array/n_paths # E(E(t)) array for receiver swap\n",
    "    \n",
    "    total_pvee_payer_swap_array = total_pvee_payer_swap_array/n_paths\n",
    "    total_pvee_receiver_swap_array = total_pvee_receiver_swap_array/n_paths\n",
    "    \n",
    "    unilateral_cva_payer = -(1-recovery_rate)*calculate_CVA(total_pvee_payer_swap_array, lambda_A) # calculate unilateral CVA with PVEE(t) and Counterparty default intensity\n",
    "    unilateral_cva_receiver = -(1-recovery_rate)*calculate_CVA(total_pvee_receiver_swap_array, lambda_A) # calculate unilateral CVA with PVEE(t) and Counterparty default intensity\n",
    "    \n",
    "    h_payer_EPE.append(np.sum(total_payer_swap_array[0:53])*delta_t/T_sim) # formula as per notes and [0:53] indicates 1 year data\n",
    "    h_receiver_EPE.append(np.sum(total_receiver_swap_array[0:53])*delta_t/T_sim) # formula as per notes and [0:53] indicates 1 year data\n",
    "    EE_star_payer=np.maximum.accumulate(total_payer_swap_array[0:53]) # formula as per notes and [0:53] indicates 1 year data\n",
    "    EE_star_receiver=np.maximum.accumulate(total_receiver_swap_array[0:53]) # formula as per notes and [0:53] indicates 1 year data\n",
    "    h_payer_EEPE.append(np.sum(EE_star_payer)*delta_t/T_sim) # formula as per notes\n",
    "    h_receiver_EEPE.append(np.sum(EE_star_receiver)*delta_t/T_sim) # formula as per notes\n",
    "    m_payer = (np.sum(total_payer_swap_array)*delta_t)/(np.sum(EE_star_payer)*delta_t) # formula as per notes\n",
    "    m_receiver = (np.sum(total_receiver_swap_array)*delta_t)/(np.sum(EE_star_receiver)*delta_t) # formula as per notes\n",
    "    h_m_payer.append(max(1,min(5,m_payer))) # formula as per notes\n",
    "    h_m_receiver.append(max(1,min(5,m_receiver))) # formula as per notes\n",
    "    EAD_payer.append(1.06*max(alpha_ead*(np.sum(EE_star_payer)*delta_t/T_sim)-unilateral_cva_payer,0)) # formula as per notes\n",
    "    EAD_receiver.append(1.06*max(alpha_ead*(np.sum(EE_star_receiver)*delta_t/T_sim)-unilateral_cva_receiver,0)) # formula as per notes\n",
    "result_capital_payer=pd.DataFrame([h_payer_EPE,h_payer_EEPE,EAD_payer,h_m_payer],columns=['0.02','0.04','0.06','0.08'],index=['EPE(1) ($MM)','EEPE(1) ($MM)','EAD ($MM)','M (Years)'])\n",
    "result_capital_receiver=pd.DataFrame([h_receiver_EPE,h_receiver_EEPE,EAD_receiver,h_m_receiver],columns=['0.02','0.04','0.06','0.08'],index=['EPE(1) ($MM)','EEPE(1) ($MM)','EAD ($MM)','M (Years)'])"
   ]
  },
  {
   "cell_type": "code",
   "execution_count": 132,
   "metadata": {},
   "outputs": [
    {
     "name": "stdout",
     "output_type": "stream",
     "text": [
      "Payer Swap\n",
      "                    0.02      0.04      0.06      0.08\n",
      "EPE(1) ($MM)   10.486655  3.354126  0.284911  0.008981\n",
      "EEPE(1) ($MM)  10.631042  3.356567  0.284911  0.009145\n",
      "EAD ($MM)      14.455795  4.310570  0.139207  0.000000\n",
      "M (Years)       5.000000  5.000000  5.000000  5.000000\n",
      "\n",
      "Receiver Swap\n",
      "                   0.02      0.04      0.06       0.08\n",
      "EPE(1) ($MM)   0.045363  0.963003  6.410738  14.649245\n",
      "EEPE(1) ($MM)  0.046371  0.974122  6.673503  15.182165\n",
      "EAD ($MM)      0.000000  1.105118  9.055398  20.855615\n",
      "M (Years)      5.000000  5.000000  5.000000   4.952442\n"
     ]
    }
   ],
   "source": [
    "print(\"Payer Swap\")\n",
    "print(result_capital_payer)\n",
    "print(\"\\nReceiver Swap\")\n",
    "print(result_capital_receiver)"
   ]
  },
  {
   "cell_type": "markdown",
   "metadata": {},
   "source": [
    "Q.2"
   ]
  },
  {
   "cell_type": "code",
   "execution_count": 133,
   "metadata": {},
   "outputs": [],
   "source": [
    "def k_calc(m,pd):\n",
    "    b_y=(0.11852-0.05478*np.log(pd))\n",
    "    k_x_y=(1+(m-2.5)*b_y)/(1-1.5*b_y)\n",
    "    return k_x_y"
   ]
  },
  {
   "cell_type": "code",
   "execution_count": 134,
   "metadata": {},
   "outputs": [],
   "source": [
    "airb_payer = []\n",
    "airb_receiver = []\n",
    "k_payer = []\n",
    "k_receiver = []\n",
    "rho_p = 0.24 - 0.12 * (1 - np.exp(-50 * probability_default)) # formula as per notes\n",
    "temp_airb = norm.cdf((norm.ppf(probability_default) - np.sqrt(rho_p) * norm.ppf(0.001))/(np.sqrt(1 - rho_p))) - probability_default # formula as per notes\n",
    "for i in range(4):\n",
    "    k_payer.append(k_calc(h_m_payer[i],probability_default))\n",
    "    k_receiver.append(k_calc(h_m_receiver[i],probability_default))\n",
    "    payer_temp = EAD_payer[i]*loss_given_default*(temp_airb)*k_calc(h_m_payer[i],probability_default) # formula as per notes\n",
    "    receiver_temp = EAD_receiver[i]*loss_given_default*(temp_airb)*k_calc(h_m_receiver[i],probability_default) # formula as per notes\n",
    "    airb_payer.append(payer_temp)\n",
    "    airb_receiver.append(receiver_temp)\n",
    "airb_capital=pd.DataFrame([airb_payer,k_payer,airb_receiver,k_receiver],columns=['0.02','0.04','0.06','0.08'],index=['AIRB_Payer ($MM)','k_Payer','AIRB_Receiver ($MM)','k_Receiver'])"
   ]
  },
  {
   "cell_type": "code",
   "execution_count": 135,
   "metadata": {},
   "outputs": [
    {
     "name": "stdout",
     "output_type": "stream",
     "text": [
      "                         0.02      0.04      0.06      0.08\n",
      "AIRB_Payer ($MM)     4.203971  1.253581  0.040484  0.000000\n",
      "k_Payer              5.226487  5.226487  5.226487  5.226487\n",
      "AIRB_Receiver ($MM)  0.000000  0.321386  2.633451  6.006826\n",
      "k_Receiver           5.226487  5.226487  5.226487  5.176237\n"
     ]
    }
   ],
   "source": [
    "print(airb_capital)"
   ]
  },
  {
   "cell_type": "markdown",
   "metadata": {},
   "source": [
    "Q.3"
   ]
  },
  {
   "cell_type": "code",
   "execution_count": 136,
   "metadata": {},
   "outputs": [],
   "source": [
    "T_sim=1\n",
    "delta_t = 1/52\n",
    "delta_T = 0.5\n",
    "u = np.matrix([[1],\n",
    "              [1]])\n",
    "n_paths = 1000\n",
    "hpar_list=[0.02,0.04,0.06,0.08]\n",
    "h_payer_EPE=[]\n",
    "h_receiver_EPE=[]\n",
    "h_payer_EEPE=[]\n",
    "h_receiver_EEPE=[]\n",
    "h_m_payer=[]\n",
    "h_m_receiver=[]\n",
    "EAD_payer=[]\n",
    "EAD_receiver=[]\n",
    "\n",
    "for hpar_value in hpar_list: # h_par loop for different values of fixed coupon\n",
    "    total_payer_swap_array = np.zeros(521)\n",
    "    total_receiver_swap_array = np.zeros(521)\n",
    "    EE_star_payer=np.array([])\n",
    "    EE_star_receiver=np.array([])\n",
    "    total_pvee_payer_swap_array = np.zeros(521)\n",
    "    total_pvee_receiver_swap_array = np.zeros(521)\n",
    "    for j in range(n_paths): #n_path loop for monte carlo\n",
    "        x_previous = np.matrix([[0],\n",
    "                               [0]])\n",
    "        payer_swap_array = np.array([])\n",
    "        receiver_swap_array = np.array([])\n",
    "        z_array = np.random.normal(0,1,2*(int(T/delta_t))+1)\n",
    "        discount_factor_array = np.array([])\n",
    "        for i in range(0,int(T/delta_t)+1): # i loop for creating of weekly sample paths \n",
    "            t_iter = i*delta_t\n",
    "            z_1 = z_array[i]\n",
    "            z_2 = z_array[i+int(T/delta_t)]\n",
    "            z_3 = rho_x * z_1 + ((1 - (rho_x**2))**0.5) * z_2\n",
    "            z_t = np.matrix([[z_1],\n",
    "                        [z_3]])\n",
    "#             y_t = matrix_calc(t_iter)\n",
    "            y_t=matrix_calc_list[i]\n",
    "            P_0_t = np.exp(-a*t_iter-(b*(t_iter**2)/2))\n",
    "            payer, receiver = payer_receiver(t_iter,x_previous,y_t,P_0_t,delta_T,hpar_value)\n",
    "            dx_t = (y_t*u - kappa*x_previous)*delta_t + sigma_x.T*z_t*(delta_t**0.5)\n",
    "            \n",
    "            discount_factor = np.exp(-(a*t_iter+(b*(t_iter**2)/2) + (x_previous[0,0] + x_previous[1,0])*t_iter))\n",
    "            discount_factor_array = np.append(discount_factor_array,[discount_factor])\n",
    "            \n",
    "            x_previous = x_previous + dx_t\n",
    "            #payer_swap_array = np.append(payer_swap_array,[max(receiver-payer,0)]) # array storing weekly exposure values of payer swap\n",
    "            #receiver_swap_array = np.append(receiver_swap_array,[max(payer-receiver,0)]) # # array storing weekly exposure values of receiver swap\n",
    "            payer_swap_array = np.append(payer_swap_array,[receiver-payer])\n",
    "            receiver_swap_array= np.append(receiver_swap_array,[payer-receiver])\n",
    "        payer_swap_array = payer_swap_array - shift(payer_swap_array, 2) # V(t) - V(t-2) for payer swap\n",
    "        payer_swap_array[payer_swap_array < 0] = 0\n",
    "        receiver_swap_array = receiver_swap_array - shift(receiver_swap_array, 2) # V(t) - V(t-2) for receiver swap\n",
    "        receiver_swap_array[receiver_swap_array < 0] = 0\n",
    "        \n",
    "        total_payer_swap_array = total_payer_swap_array + payer_swap_array\n",
    "        total_receiver_swap_array = total_receiver_swap_array + receiver_swap_array\n",
    "        \n",
    "        total_pvee_payer_swap_array = total_pvee_payer_swap_array + (payer_swap_array * discount_factor_array)\n",
    "        total_pvee_receiver_swap_array = total_pvee_receiver_swap_array + (receiver_swap_array * discount_factor_array)\n",
    "        \n",
    "    total_payer_swap_array = total_payer_swap_array/n_paths # E(E(t)) array for payer swap \n",
    "    total_receiver_swap_array = total_receiver_swap_array/n_paths # E(E(t)) array for receiver swap\n",
    "    \n",
    "    total_pvee_payer_swap_array = total_pvee_payer_swap_array/n_paths\n",
    "    total_pvee_receiver_swap_array = total_pvee_receiver_swap_array/n_paths\n",
    "    \n",
    "    unilateral_cva_payer = -(1-recovery_rate)*calculate_CVA(total_pvee_payer_swap_array, lambda_A) # calculate unilateral CVA with PVEE(t) and Counterparty default intensity\n",
    "    unilateral_cva_receiver = -(1-recovery_rate)*calculate_CVA(total_pvee_receiver_swap_array, lambda_A) # calculate unilateral CVA with PVEE(t) and Counterparty default intensity\n",
    "\n",
    "    h_payer_EPE.append(np.sum(total_payer_swap_array[0:53])*delta_t/T_sim)\n",
    "    h_receiver_EPE.append(np.sum(total_receiver_swap_array[0:53])*delta_t/T_sim)\n",
    "    EE_star_payer=np.maximum.accumulate(total_payer_swap_array[0:53])\n",
    "    EE_star_receiver=np.maximum.accumulate(total_receiver_swap_array[0:53])\n",
    "    h_payer_EEPE.append(np.sum(EE_star_payer)*delta_t/T_sim)\n",
    "    h_receiver_EEPE.append(np.sum(EE_star_receiver)*delta_t/T_sim)\n",
    "    m_payer = (np.sum(total_payer_swap_array)*delta_t)/(np.sum(EE_star_payer)*delta_t)\n",
    "    m_receiver = (np.sum(total_receiver_swap_array)*delta_t)/(np.sum(EE_star_receiver)*delta_t)\n",
    "    h_m_payer.append(max(1,min(5,m_payer)))\n",
    "    h_m_receiver.append(max(1,min(5,m_receiver)))\n",
    "    EAD_payer.append(1.06*max(alpha_ead*(np.sum(EE_star_payer)*delta_t/T_sim)-unilateral_cva_payer,0))\n",
    "    EAD_receiver.append(1.06*max(alpha_ead*(np.sum(EE_star_receiver)*delta_t/T_sim)-unilateral_cva_receiver,0))\n",
    "result_capital_payer=pd.DataFrame([h_payer_EPE,h_payer_EEPE,EAD_payer,h_m_payer],columns=['0.02','0.04','0.06','0.08'],index=['EPE(1) ($MM)','EEPE(1) ($MM)','EAD ($MM)','M (Years)'])\n",
    "result_capital_receiver=pd.DataFrame([h_receiver_EPE,h_receiver_EEPE,EAD_receiver,h_m_receiver],columns=['0.02','0.04','0.06','0.08'],index=['EPE(1) ($MM)','EEPE(1) ($MM)','EAD ($MM)','M (Years)'])"
   ]
  },
  {
   "cell_type": "code",
   "execution_count": 137,
   "metadata": {},
   "outputs": [
    {
     "name": "stdout",
     "output_type": "stream",
     "text": [
      "Payer Swap\n",
      "                    0.02      0.04      0.06      0.08\n",
      "EPE(1) ($MM)    0.861481  0.605757  0.590102  0.659836\n",
      "EEPE(1) ($MM)  10.552206  2.045142  0.788851  1.008949\n",
      "EAD ($MM)      15.595959  2.968600  1.098362  1.416342\n",
      "M (Years)       1.000000  1.648051  4.595667  4.004862\n",
      "\n",
      "Receiver Swap\n",
      "                   0.02      0.04      0.06       0.08\n",
      "EPE(1) ($MM)   0.481061  0.522500  0.805367   1.168600\n",
      "EEPE(1) ($MM)  0.601182  0.590025  6.428363  14.911291\n",
      "EAD ($MM)      0.828427  0.810473  9.469774  22.051323\n",
      "M (Years)      5.000000  5.000000  1.000000   1.000000\n"
     ]
    }
   ],
   "source": [
    "print(\"Payer Swap\")\n",
    "print(result_capital_payer)\n",
    "print(\"\\nReceiver Swap\")\n",
    "print(result_capital_receiver)"
   ]
  },
  {
   "cell_type": "code",
   "execution_count": 138,
   "metadata": {},
   "outputs": [],
   "source": [
    "airb_payer = []\n",
    "airb_receiver = []\n",
    "k_payer = []\n",
    "k_receiver = []\n",
    "rho_p = 0.24 - 0.12 * (1 - np.exp(-50 * probability_default)) # formula as per notes\n",
    "temp_airb = norm.cdf((norm.ppf(probability_default) - np.sqrt(rho_p) * norm.ppf(0.001))/(np.sqrt(1 - rho_p))) - probability_default # formula as per notes\n",
    "for i in range(4):\n",
    "    k_payer.append(k_calc(h_m_payer[i],probability_default))\n",
    "    k_receiver.append(k_calc(h_m_receiver[i],probability_default))\n",
    "    payer_temp = EAD_payer[i]*loss_given_default*(temp_airb)*k_calc(h_m_payer[i],probability_default)\n",
    "    receiver_temp = EAD_receiver[i]*loss_given_default*(temp_airb)*k_calc(h_m_receiver[i],probability_default)\n",
    "    airb_payer.append(payer_temp)\n",
    "    airb_receiver.append(receiver_temp)\n",
    "airb_capital=pd.DataFrame([airb_payer,k_payer,airb_receiver,k_receiver],columns=['0.02','0.04','0.06','0.08'],index=['AIRB_Payer ($MM)','k_Payer','AIRB_Receiver ($MM)','k_Receiver'])"
   ]
  },
  {
   "cell_type": "code",
   "execution_count": 139,
   "metadata": {},
   "outputs": [
    {
     "name": "stdout",
     "output_type": "stream",
     "text": [
      "                         0.02      0.04      0.06      0.08\n",
      "AIRB_Payer ($MM)     0.867801  0.278287  0.293310  0.329028\n",
      "k_Payer              1.000000  1.684745  4.799260  4.175003\n",
      "AIRB_Receiver ($MM)  0.240919  0.235698  0.526923  1.226994\n",
      "k_Receiver           5.226487  5.226487  1.000000  1.000000\n"
     ]
    }
   ],
   "source": [
    "print(airb_capital)"
   ]
  },
  {
   "cell_type": "markdown",
   "metadata": {},
   "source": [
    "Q.4"
   ]
  },
  {
   "cell_type": "code",
   "execution_count": 196,
   "metadata": {},
   "outputs": [],
   "source": [
    "T_sim=1\n",
    "delta_t = 1/52\n",
    "delta_T = 0.5\n",
    "u = np.matrix([[1],\n",
    "              [1]])\n",
    "n_paths = 1000\n",
    "hpar_list=[0.02,0.04,0.06,0.08]\n",
    "h_payer_EPE=[]\n",
    "h_receiver_EPE=[]\n",
    "h_payer_EEPE=[]\n",
    "h_receiver_EEPE=[]\n",
    "h_m_payer=[]\n",
    "h_m_receiver=[]\n",
    "EAD_payer=[]\n",
    "EAD_receiver=[]\n",
    "\n",
    "for hpar_value in hpar_list: # h_par loop for different values of fixed coupon\n",
    "    total_payer_swap_array = np.zeros(521)\n",
    "    total_receiver_swap_array = np.zeros(521)\n",
    "    EE_star_payer=np.array([])\n",
    "    EE_star_receiver=np.array([])\n",
    "    total_pvee_payer_swap_array = np.zeros(521)\n",
    "    total_pvee_receiver_swap_array = np.zeros(521)\n",
    "    for j in range(n_paths): #n_path loop for monte carlo\n",
    "        x_previous = np.matrix([[0],\n",
    "                               [0]])\n",
    "        payer_swap_array = np.array([])\n",
    "        receiver_swap_array = np.array([])\n",
    "        z_array = np.random.normal(0,1,2*(int(T/delta_t))+1)\n",
    "        discount_factor_array = np.array([])\n",
    "        for i in range(0,int(T/delta_t)+1): # i loop for creating of weekly sample paths \n",
    "            t_iter = i*delta_t\n",
    "            z_1 = z_array[i]\n",
    "            z_2 = z_array[i+int(T/delta_t)]\n",
    "            z_3 = rho_x * z_1 + ((1 - (rho_x**2))**0.5) * z_2\n",
    "            z_t = np.matrix([[z_1],\n",
    "                        [z_3]])\n",
    "#             y_t = matrix_calc(t_iter)\n",
    "            y_t=matrix_calc_list[i]\n",
    "            P_0_t = np.exp(-a*t_iter-(b*(t_iter**2)/2))\n",
    "            payer, receiver = payer_receiver(t_iter,x_previous,y_t,P_0_t,delta_T,hpar_value)\n",
    "            dx_t = (y_t*u - kappa*x_previous)*delta_t + sigma_x.T*z_t*(delta_t**0.5)\n",
    "            \n",
    "            discount_factor = np.exp(-(a*t_iter+(b*(t_iter**2)/2) + (x_previous[0,0] + x_previous[1,0])*t_iter))\n",
    "            discount_factor_array = np.append(discount_factor_array,[discount_factor])\n",
    "            \n",
    "            x_previous = x_previous + dx_t\n",
    "            #payer_swap_array = np.append(payer_swap_array,[max(receiver-payer,0)]) # array storing weekly exposure values of payer swap\n",
    "            #receiver_swap_array = np.append(receiver_swap_array,[max(payer-receiver,0)]) # # array storing weekly exposure values of receiver swap\n",
    "            payer_swap_array = np.append(payer_swap_array,[receiver-payer])\n",
    "            receiver_swap_array= np.append(receiver_swap_array,[payer-receiver])\n",
    "        payer_swap_array = payer_swap_array - shift(payer_swap_array, 2) # V(t) - V(t-2) for payer swap\n",
    "        payer_swap_array[payer_swap_array < 0] = 0\n",
    "        receiver_swap_array = receiver_swap_array - shift(receiver_swap_array, 2) # V(t) - V(t-2) for receiver swap\n",
    "        receiver_swap_array[receiver_swap_array < 0] = 0\n",
    "        \n",
    "        total_payer_swap_array = total_payer_swap_array + payer_swap_array\n",
    "        total_receiver_swap_array = total_receiver_swap_array + receiver_swap_array\n",
    "        \n",
    "        total_pvee_payer_swap_array = total_pvee_payer_swap_array + (payer_swap_array * discount_factor_array)\n",
    "        total_pvee_receiver_swap_array = total_pvee_receiver_swap_array + (receiver_swap_array * discount_factor_array)\n",
    "        \n",
    "    total_payer_swap_array = total_payer_swap_array/n_paths # E(E(t)) array for payer swap \n",
    "    total_receiver_swap_array = total_receiver_swap_array/n_paths # E(E(t)) array for receiver swap\n",
    "    \n",
    "    total_pvee_payer_swap_array = total_pvee_payer_swap_array/n_paths\n",
    "    total_pvee_receiver_swap_array = total_pvee_receiver_swap_array/n_paths\n",
    "    \n",
    "    unilateral_cva_payer = -(1-recovery_rate)*calculate_CVA(total_pvee_payer_swap_array, lambda_A) # calculate unilateral CVA with PVEE(t) and Counterparty default intensity\n",
    "    unilateral_cva_receiver = -(1-recovery_rate)*calculate_CVA(total_pvee_receiver_swap_array, lambda_A) # calculate unilateral CVA with PVEE(t) and Counterparty default intensity\n",
    "\n",
    "    h_payer_EPE.append(np.sum(total_payer_swap_array[0:53])*delta_t/T_sim)\n",
    "    h_receiver_EPE.append(np.sum(total_receiver_swap_array[0:53])*delta_t/T_sim)\n",
    "    EE_star_payer=np.maximum.accumulate(total_payer_swap_array[2:53])\n",
    "    EE_star_receiver=np.maximum.accumulate(total_receiver_swap_array[2:53])\n",
    "    h_payer_EEPE.append(np.sum(EE_star_payer)*delta_t/T_sim)\n",
    "    h_receiver_EEPE.append(np.sum(EE_star_receiver)*delta_t/T_sim)\n",
    "    m_payer = (np.sum(total_payer_swap_array)*delta_t)/(np.sum(EE_star_payer)*delta_t)\n",
    "    m_receiver = (np.sum(total_receiver_swap_array)*delta_t)/(np.sum(EE_star_receiver)*delta_t)\n",
    "    h_m_payer.append(max(1,min(5,m_payer)))\n",
    "    h_m_receiver.append(max(1,min(5,m_receiver)))\n",
    "    EAD_payer.append(1.06*max(alpha_ead*(np.sum(EE_star_payer)*delta_t/T_sim)-unilateral_cva_payer,0))\n",
    "    EAD_receiver.append(1.06*max(alpha_ead*(np.sum(EE_star_receiver)*delta_t/T_sim)-unilateral_cva_receiver,0))\n",
    "result_capital_payer=pd.DataFrame([h_payer_EPE,h_payer_EEPE,EAD_payer,h_m_payer],columns=['0.02','0.04','0.06','0.08'],index=['EPE(1) ($MM)','EEPE(1) ($MM)','EAD ($MM)','M (Years)'])\n",
    "result_capital_receiver=pd.DataFrame([h_receiver_EPE,h_receiver_EEPE,EAD_receiver,h_m_receiver],columns=['0.02','0.04','0.06','0.08'],index=['EPE(1) ($MM)','EEPE(1) ($MM)','EAD ($MM)','M (Years)'])"
   ]
  },
  {
   "cell_type": "code",
   "execution_count": 197,
   "metadata": {},
   "outputs": [
    {
     "name": "stdout",
     "output_type": "stream",
     "text": [
      "Payer Swap\n",
      "                   0.02      0.04      0.06      0.08\n",
      "EPE(1) ($MM)   0.862361  0.602546  0.591098  0.652888\n",
      "EEPE(1) ($MM)  0.509816  0.589430  0.773112  1.007047\n",
      "EAD ($MM)      0.693180  0.808313  1.074636  1.413704\n",
      "M (Years)      5.000000  5.000000  4.703323  4.005414\n",
      "\n",
      "Receiver Swap\n",
      "                   0.02      0.04      0.06      0.08\n",
      "EPE(1) ($MM)   0.478530  0.519562  0.800931  1.169682\n",
      "EEPE(1) ($MM)  0.591714  0.566434  0.630899  0.715720\n",
      "EAD ($MM)      0.814641  0.775295  0.866028  0.985160\n",
      "M (Years)      5.000000  5.000000  5.000000  5.000000\n"
     ]
    }
   ],
   "source": [
    "print(\"Payer Swap\")\n",
    "print(result_capital_payer)\n",
    "print(\"\\nReceiver Swap\")\n",
    "print(result_capital_receiver)"
   ]
  },
  {
   "cell_type": "code",
   "execution_count": 198,
   "metadata": {},
   "outputs": [],
   "source": [
    "airb_payer = []\n",
    "airb_receiver = []\n",
    "k_payer = []\n",
    "k_receiver = []\n",
    "rho_p = 0.24 - 0.12 * (1 - np.exp(-50 * probability_default))\n",
    "temp_airb = norm.cdf((norm.ppf(probability_default) - np.sqrt(rho_p) * norm.ppf(0.001))/(np.sqrt(1 - rho_p))) - probability_default\n",
    "for i in range(4):\n",
    "    k_payer.append(k_calc(h_m_payer[i],probability_default))\n",
    "    k_receiver.append(k_calc(h_m_receiver[i],probability_default))\n",
    "    payer_temp = EAD_payer[i]*loss_given_default*(temp_airb)*k_calc(h_m_payer[i],probability_default)\n",
    "    receiver_temp = EAD_receiver[i]*loss_given_default*(temp_airb)*k_calc(h_m_receiver[i],probability_default)\n",
    "    airb_payer.append(payer_temp)\n",
    "    airb_receiver.append(receiver_temp)\n",
    "airb_capital=pd.DataFrame([airb_payer,k_payer,airb_receiver,k_receiver],columns=['0.02','0.04','0.06','0.08'],index=['AIRB_Payer ($MM)','k_Payer','AIRB_Receiver ($MM)','k_Receiver'])"
   ]
  },
  {
   "cell_type": "code",
   "execution_count": 199,
   "metadata": {},
   "outputs": [
    {
     "name": "stdout",
     "output_type": "stream",
     "text": [
      "                         0.02      0.04      0.06      0.08\n",
      "AIRB_Payer ($MM)     0.201588  0.235070  0.293776  0.328461\n",
      "k_Payer              5.226487  5.226487  4.913012  4.175586\n",
      "AIRB_Receiver ($MM)  0.236910  0.225468  0.251854  0.286500\n",
      "k_Receiver           5.226487  5.226487  5.226487  5.226487\n"
     ]
    }
   ],
   "source": [
    "print(airb_capital)"
   ]
  },
  {
   "cell_type": "markdown",
   "metadata": {},
   "source": [
    "Q.5"
   ]
  },
  {
   "cell_type": "code",
   "execution_count": 278,
   "metadata": {},
   "outputs": [],
   "source": [
    "T_sim=1\n",
    "delta_t = 1/52\n",
    "delta_T = 0.5\n",
    "u = np.matrix([[1],\n",
    "              [1]])\n",
    "n_paths = 1000\n",
    "hpar_list=[4.4836/100]\n",
    "h_payer_EPE=[]\n",
    "h_receiver_EPE=[]\n",
    "h_payer_EEPE=[]\n",
    "h_receiver_EEPE=[]\n",
    "h_m_payer=[]\n",
    "h_m_receiver=[]\n",
    "lambda_f = 0.04\n",
    "\n",
    "for hpar_value in hpar_list: # h_par loop for different values of fixed coupon\n",
    "    total_payer_swap_array = np.zeros(521)\n",
    "    total_receiver_swap_array = np.zeros(521)\n",
    "    EE_star_payer=np.array([])\n",
    "    EE_star_receiver=np.array([])\n",
    "    cva_payer_final=np.array([])\n",
    "    cva_receiver_final=np.array([])\n",
    "    for j in range(n_paths): #n_path loop for monte carlo\n",
    "        x_previous = np.matrix([[0],\n",
    "                               [0]])\n",
    "        x_previous_l = 0\n",
    "        payer_swap_array = np.array([])\n",
    "        receiver_swap_array = np.array([])\n",
    "        z_array = np.random.normal(0,1,2*(int(T/delta_t))+1)\n",
    "        lambda_t_path = np.array([])\n",
    "        discount_factor_array = np.array([])\n",
    "        lambda_factor_array = np.array([])\n",
    "        cva_payer=np.array([])\n",
    "        cva_receiver=np.array([])\n",
    "        for i in range(0,int(T/delta_t)+1): # i loop for creating of weekly sample paths \n",
    "            t_iter = i*delta_t\n",
    "            dx_t_l = (y_t_l_list[i] - k_l*x_previous_l)*delta_t + sigma_l*np.random.normal(0,1,1)*(delta_t**0.5)\n",
    "            \n",
    "            z_1 = z_array[i]\n",
    "            z_2 = z_array[i+int(T/delta_t)]\n",
    "            z_3 = rho_x * z_1 + ((1 - (rho_x**2))**0.5) * z_2\n",
    "            z_t = np.matrix([[z_1],\n",
    "                        [z_3]])\n",
    "#             y_t = matrix_calc(t_iter)\n",
    "            y_t=matrix_calc_list[i]\n",
    "            P_0_t = np.exp(-a*t_iter-(b*(t_iter**2)/2))\n",
    "            payer, receiver = payer_receiver(t_iter,x_previous,y_t,P_0_t,delta_T,hpar_value)\n",
    "            dx_t = (y_t*u - kappa*x_previous)*delta_t + sigma_x.T*z_t*(delta_t**0.5)\n",
    "            \n",
    "            lambda_t_path = np.append(lambda_t_path, lambda_f + x_previous_l)\n",
    "            \n",
    "            discount_factor = np.exp(-(a* t_iter+(b*(t_iter**2)/2) + (x_previous[0,0] + x_previous[1,0])*t_iter))\n",
    "            lambda_factor = np.exp(-(lambda_f+x_previous_l)*t_iter)\n",
    "            \n",
    "            discount_factor_array = np.append(discount_factor_array, discount_factor)\n",
    "            lambda_factor_array = np.append(lambda_factor_array, lambda_factor)\n",
    "            \n",
    "            x_previous_l = x_previous_l + dx_t_l\n",
    "            x_previous = x_previous + dx_t\n",
    "            payer_swap_array = np.append(payer_swap_array,[max(receiver-payer,0)]) # array storing weekly exposure values of payer swap\n",
    "            receiver_swap_array = np.append(receiver_swap_array,[max(payer-receiver,0)]) # # array storing weekly exposure values of receiver swap\n",
    "        \n",
    "        cva_payer = payer_swap_array * lambda_t_path * discount_factor_array * lambda_factor_array\n",
    "        cva_receiver = receiver_swap_array * lambda_t_path * discount_factor_array * lambda_factor_array\n",
    "        cva_payer_final = np.append(cva_payer_final, (1 - recovery_rate) * np.sum(cva_payer) * delta_t)\n",
    "        cva_receiver_final = np.append(cva_receiver_final, (1 - recovery_rate) * np.sum(cva_receiver) * delta_t)\n",
    "        #total_payer_swap_array = total_payer_swap_array + payer_swap_array\n",
    "        #total_receiver_swap_array = total_receiver_swap_array + receiver_swap_array        \n",
    "    \n",
    "    cva_payer_final = np.sum(cva_payer_final)/n_paths # E(E(t)) array for payer swap \n",
    "    cva_receiver_final = np.sum(cva_receiver_final)/n_paths # E(E(t)) array for receiver swap"
   ]
  },
  {
   "cell_type": "code",
   "execution_count": 279,
   "metadata": {},
   "outputs": [
    {
     "name": "stdout",
     "output_type": "stream",
     "text": [
      "Payer_CVA: 0.5004825401344054\n",
      "Receiver_CVA: 0.4501676093188898\n"
     ]
    }
   ],
   "source": [
    "print('Payer_CVA:', cva_payer_final)\n",
    "print('Receiver_CVA:', cva_receiver_final)"
   ]
  },
  {
   "cell_type": "markdown",
   "metadata": {},
   "source": [
    "The above figures are in MM$"
   ]
  },
  {
   "cell_type": "markdown",
   "metadata": {},
   "source": [
    "Q.6"
   ]
  },
  {
   "cell_type": "code",
   "execution_count": 280,
   "metadata": {},
   "outputs": [],
   "source": [
    "correlation_matrix = np.array([[1],[rho_x],[rho_l],\n",
    "                             [rho_x],[1],[rho_Z_2],\n",
    "                             [rho_l],[rho_Z_2],[1]])\n",
    "correlation_matrix = correlation_matrix.reshape(3,3)\n",
    "\n",
    "sigma_3_factor = np.matrix([[sigma_1,0,0],\n",
    "                          [0,sigma_2,0],\n",
    "                          [0,0,sigma_l]])\n",
    "\n",
    "kappa_3_factor = np.matrix([[0,0,0],\n",
    "                  [0,kappa_2,0],\n",
    "                  [0,0,k_l]])"
   ]
  },
  {
   "cell_type": "code",
   "execution_count": 281,
   "metadata": {},
   "outputs": [],
   "source": [
    "covariance_matrix = np.array([[1*sigma_1*sigma_1],[rho_x*sigma_1*sigma_2],[rho_l*sigma_1*sigma_l],\n",
    "                             [rho_x*sigma_1*sigma_2],[1*sigma_2*sigma_2],[rho_Z_2*sigma_2*sigma_l],\n",
    "                             [rho_l*sigma_1*sigma_l],[rho_Z_2*sigma_2*sigma_l],[1*sigma_l*sigma_l]])\n",
    "covariance_matrix = covariance_matrix.reshape(3,3)"
   ]
  },
  {
   "cell_type": "code",
   "execution_count": 282,
   "metadata": {},
   "outputs": [],
   "source": [
    "l_matrix = np.linalg.cholesky(correlation_matrix)"
   ]
  },
  {
   "cell_type": "code",
   "execution_count": 283,
   "metadata": {},
   "outputs": [],
   "source": [
    "T_sim=1\n",
    "delta_t = 1/52\n",
    "delta_T = 0.5\n",
    "u = np.matrix([[1],\n",
    "              [1],\n",
    "              [1]])\n",
    "n_paths = 1000\n",
    "hpar_list=[4.4836/100]\n",
    "h_payer_EPE=[]\n",
    "h_receiver_EPE=[]\n",
    "h_payer_EEPE=[]\n",
    "h_receiver_EEPE=[]\n",
    "h_m_payer=[]\n",
    "h_m_receiver=[]\n",
    "lambda_f = 0.04\n",
    "\n",
    "for hpar_value in hpar_list: # h_par loop for different values of fixed coupon\n",
    "    total_payer_swap_array = np.zeros(521)\n",
    "    total_receiver_swap_array = np.zeros(521)\n",
    "    EE_star_payer=np.array([])\n",
    "    EE_star_receiver=np.array([])\n",
    "    cva_payer_final=np.zeros(521)\n",
    "    cva_receiver_final=np.zeros(521)\n",
    "    for j in range(n_paths): #n_path loop for monte carlo\n",
    "        x_previous = np.matrix([[0],\n",
    "                               [0],\n",
    "                               [0]])\n",
    "        #x_previous_l = 0\n",
    "        payer_swap_array = np.array([])\n",
    "        receiver_swap_array = np.array([])\n",
    "        z_array = np.random.normal(0,1,3*(int(T/delta_t))+1)\n",
    "        lambda_t_path = np.array([])\n",
    "        discount_factor_array = np.array([])\n",
    "        lambda_factor_array = np.array([])\n",
    "        cva_payer=np.array([])\n",
    "        cva_receiver=np.array([])\n",
    "        for i in range(0,int(T/delta_t)+1): # i loop for creating of weekly sample paths \n",
    "            t_iter = i*delta_t\n",
    "            #dx_t_l = (y_t_l_list[i] - k_l*x_previous_l)*delta_t + sigma_l*np.random.normal(0,1,1)*(delta_t**0.5)\n",
    "            \n",
    "            z_1 = z_array[i]\n",
    "            z_2 = z_array[i+int(T/delta_t)]\n",
    "            z_3 = z_array[i+int(T/delta_t)*2]\n",
    "            z_t = np.matrix([[z_1],\n",
    "                           [z_2],  \n",
    "                        [z_3]])\n",
    "#             y_t = matrix_calc(t_iter)\n",
    "            y_t=matrix_calc_list[i]\n",
    "            P_0_t = np.exp(-a*t_iter-(b*(t_iter**2)/2))\n",
    "            payer, receiver = payer_receiver(t_iter,x_previous[0:2,:],y_t,P_0_t,delta_T,hpar_value)\n",
    "            \n",
    "            y_t_3_factor = np.matrix([[y_t.item(0),0,0],\n",
    "                                  [0,y_t.item(3),0],\n",
    "                                      [0,0,y_t_l_list[i]]])\n",
    "            z_t = l_matrix * z_t\n",
    "            dx_t = (y_t_3_factor*u - kappa_3_factor*x_previous)*delta_t + sigma_3_factor.T*z_t*(delta_t**0.5)\n",
    "            \n",
    "            lambda_t_path = np.append(lambda_t_path, lambda_f + x_previous[2,0])\n",
    "            \n",
    "            discount_factor = np.exp(-(a* t_iter+(b*(t_iter**2)/2) + (x_previous[0,0] + x_previous[1,0])*t_iter))\n",
    "            lambda_factor = np.exp(-(lambda_f+x_previous[2,0])*t_iter)\n",
    "            \n",
    "            discount_factor_array = np.append(discount_factor_array, discount_factor)\n",
    "            lambda_factor_array = np.append(lambda_factor_array, lambda_factor)\n",
    "            #print(x_previous)\n",
    "            x_previous = x_previous + dx_t\n",
    "            payer_swap_array = np.append(payer_swap_array,[max(receiver-payer,0)]) # array storing weekly exposure values of payer swap\n",
    "            receiver_swap_array = np.append(receiver_swap_array,[max(payer-receiver,0)]) # # array storing weekly exposure values of receiver swap\n",
    "        \n",
    "        cva_payer = lambda_t_path * payer_swap_array * discount_factor_array * lambda_factor_array\n",
    "        cva_receiver = lambda_t_path * receiver_swap_array * discount_factor_array * lambda_factor_array\n",
    "        cva_payer_final = np.append(cva_payer_final, (1 - recovery_rate) * np.sum(cva_payer) * delta_t)\n",
    "        cva_receiver_final = np.append(cva_receiver_final, (1 - recovery_rate) * np.sum(cva_receiver) * delta_t)\n",
    "        #total_payer_swap_array = total_payer_swap_array + payer_swap_array\n",
    "        #total_receiver_swap_array = total_receiver_swap_array + receiver_swap_array        \n",
    "    \n",
    "    \n",
    "    cva_payer_final = np.sum(cva_payer_final)/n_paths # E(E(t)) array for payer swap \n",
    "    cva_receiver_final = np.sum(cva_receiver_final)/n_paths # E(E(t)) array for receiver swap"
   ]
  },
  {
   "cell_type": "code",
   "execution_count": 284,
   "metadata": {},
   "outputs": [
    {
     "name": "stdout",
     "output_type": "stream",
     "text": [
      "Payer_CVA: 0.6661008583849382\n",
      "Receiver_CVA: 0.2773234133128456\n"
     ]
    }
   ],
   "source": [
    "print('Payer_CVA:', cva_payer_final)\n",
    "print('Receiver_CVA:', cva_receiver_final)"
   ]
  },
  {
   "cell_type": "markdown",
   "metadata": {},
   "source": [
    "The above figures are in MM$"
   ]
  },
  {
   "cell_type": "markdown",
   "metadata": {},
   "source": [
    "The wrong-way risk for 'A' can be the right-way risk for 'B', so it explains that for one of the party CVA decreases and it increases for the other. "
   ]
  },
  {
   "cell_type": "markdown",
   "metadata": {},
   "source": [
    "### Done"
   ]
  }
 ],
 "metadata": {
  "kernelspec": {
   "display_name": "Python 3",
   "language": "python",
   "name": "python3"
  },
  "language_info": {
   "codemirror_mode": {
    "name": "ipython",
    "version": 3
   },
   "file_extension": ".py",
   "mimetype": "text/x-python",
   "name": "python",
   "nbconvert_exporter": "python",
   "pygments_lexer": "ipython3",
   "version": "3.6.5"
  }
 },
 "nbformat": 4,
 "nbformat_minor": 2
}
